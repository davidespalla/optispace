{
 "cells": [
  {
   "cell_type": "markdown",
   "metadata": {},
   "source": [
    "# Environment topology visualization"
   ]
  },
  {
   "cell_type": "code",
   "execution_count": 3,
   "metadata": {},
   "outputs": [
    {
     "name": "stdout",
     "output_type": "stream",
     "text": [
      "Populating the interactive namespace from numpy and matplotlib\n"
     ]
    }
   ],
   "source": [
    "import numpy as np\n",
    "import scipy.io\n",
    "from scipy.ndimage import gaussian_filter1d\n",
    "import ot\n",
    "import ot.plot\n",
    "from pathlib import Path\n",
    "#import functions as fs\n",
    "from sklearn.manifold import MDS\n",
    "from sklearn.manifold import Isomap\n",
    "import pandas as pd\n",
    "from sklearn.cluster import KMeans\n",
    "from sklearn.cluster import DBSCAN\n",
    "from sklearn.metrics import silhouette_score\n",
    "%pylab inline"
   ]
  },
  {
   "cell_type": "code",
   "execution_count": 40,
   "metadata": {},
   "outputs": [],
   "source": [
    "# %% PARAMETERS\n",
    "animal = 3\n",
    "session = '1Square'"
   ]
  },
  {
   "cell_type": "code",
   "execution_count": 41,
   "metadata": {},
   "outputs": [
    {
     "data": {
      "text/html": [
       "<div>\n",
       "<style scoped>\n",
       "    .dataframe tbody tr th:only-of-type {\n",
       "        vertical-align: middle;\n",
       "    }\n",
       "\n",
       "    .dataframe tbody tr th {\n",
       "        vertical-align: top;\n",
       "    }\n",
       "\n",
       "    .dataframe thead th {\n",
       "        text-align: right;\n",
       "    }\n",
       "</style>\n",
       "<table border=\"1\" class=\"dataframe\">\n",
       "  <thead>\n",
       "    <tr style=\"text-align: right;\">\n",
       "      <th></th>\n",
       "      <th>avg_rate_1Square</th>\n",
       "      <th>rate_include_1Square</th>\n",
       "      <th>spatial_info_1Square</th>\n",
       "      <th>place_cell_flag_1Square</th>\n",
       "      <th>avg_rate_2Circle</th>\n",
       "      <th>rate_include_2Circle</th>\n",
       "      <th>spatial_info_2Circle</th>\n",
       "      <th>place_cell_flag_2Circle</th>\n",
       "    </tr>\n",
       "  </thead>\n",
       "  <tbody>\n",
       "    <tr>\n",
       "      <th>0</th>\n",
       "      <td>1.156927</td>\n",
       "      <td>1</td>\n",
       "      <td>0.596605</td>\n",
       "      <td>True</td>\n",
       "      <td>1.144281</td>\n",
       "      <td>1</td>\n",
       "      <td>0.602714</td>\n",
       "      <td>False</td>\n",
       "    </tr>\n",
       "    <tr>\n",
       "      <th>1</th>\n",
       "      <td>0.393964</td>\n",
       "      <td>1</td>\n",
       "      <td>0.451715</td>\n",
       "      <td>False</td>\n",
       "      <td>0.406856</td>\n",
       "      <td>1</td>\n",
       "      <td>2.154059</td>\n",
       "      <td>True</td>\n",
       "    </tr>\n",
       "    <tr>\n",
       "      <th>2</th>\n",
       "      <td>2.795973</td>\n",
       "      <td>1</td>\n",
       "      <td>0.677168</td>\n",
       "      <td>True</td>\n",
       "      <td>2.244063</td>\n",
       "      <td>1</td>\n",
       "      <td>0.845969</td>\n",
       "      <td>False</td>\n",
       "    </tr>\n",
       "    <tr>\n",
       "      <th>3</th>\n",
       "      <td>0.982959</td>\n",
       "      <td>1</td>\n",
       "      <td>0.150975</td>\n",
       "      <td>False</td>\n",
       "      <td>0.755226</td>\n",
       "      <td>1</td>\n",
       "      <td>0.967175</td>\n",
       "      <td>False</td>\n",
       "    </tr>\n",
       "    <tr>\n",
       "      <th>4</th>\n",
       "      <td>0.950194</td>\n",
       "      <td>1</td>\n",
       "      <td>0.310589</td>\n",
       "      <td>False</td>\n",
       "      <td>0.340742</td>\n",
       "      <td>1</td>\n",
       "      <td>1.253781</td>\n",
       "      <td>False</td>\n",
       "    </tr>\n",
       "  </tbody>\n",
       "</table>\n",
       "</div>"
      ],
      "text/plain": [
       "   avg_rate_1Square  rate_include_1Square  spatial_info_1Square  \\\n",
       "0          1.156927                     1              0.596605   \n",
       "1          0.393964                     1              0.451715   \n",
       "2          2.795973                     1              0.677168   \n",
       "3          0.982959                     1              0.150975   \n",
       "4          0.950194                     1              0.310589   \n",
       "\n",
       "   place_cell_flag_1Square  avg_rate_2Circle  rate_include_2Circle  \\\n",
       "0                     True          1.144281                     1   \n",
       "1                    False          0.406856                     1   \n",
       "2                     True          2.244063                     1   \n",
       "3                    False          0.755226                     1   \n",
       "4                    False          0.340742                     1   \n",
       "\n",
       "   spatial_info_2Circle  place_cell_flag_2Circle  \n",
       "0              0.602714                    False  \n",
       "1              2.154059                     True  \n",
       "2              0.845969                    False  \n",
       "3              0.967175                    False  \n",
       "4              1.253781                    False  "
      ]
     },
     "execution_count": 41,
     "metadata": {},
     "output_type": "execute_result"
    }
   ],
   "source": [
    "ratemaps = np.load(f'../processed_data/ratemaps/ratemaps_animal{animal}_{session}.npy')\n",
    "\n",
    "ot_dists = np.load(f'../processed_data/ratemap_distances/ot_distances_animal{animal}_{session}.npy')\n",
    "corr_dists = np.load(f'../processed_data/ratemap_distances/corr_distances_animal{animal}_{session}.npy')\n",
    "peak_dists =np.load(f'../processed_data/ratemap_distances/peak_distances_animal{animal}_{session}.npy')\n",
    "\n",
    "cell_properties  = pd.read_csv(f'../processed_data/cell_properties/cell_properties_animal{animal}.csv',index_col=0)\n",
    "cell_properties.head()"
   ]
  },
  {
   "cell_type": "markdown",
   "metadata": {},
   "source": [
    "# Clustering"
   ]
  },
  {
   "cell_type": "code",
   "execution_count": 55,
   "metadata": {},
   "outputs": [
    {
     "data": {
      "image/png": "[encoded data removed]",
      "text/plain": [
       "<Figure size 720x360 with 2 Axes>"
      ]
     },
     "metadata": {
      "needs_background": "light"
     },
     "output_type": "display_data"
    }
   ],
   "source": [
    "X = ot_dists\n",
    "n_cells = X.shape[0]\n",
    "plot_names = False\n",
    "\n",
    "names = np.arange(1,n_cells+1)\n",
    "\n",
    "\n",
    "#embedding = MDS(n_components=2,dissimilarity='precomputed',random_state=1)\n",
    "embedding = Isomap(n_components=2,metric='precomputed')\n",
    "\n",
    "X_mds = embedding.fit_transform(X)\n",
    "\n",
    "\n",
    "figure(figsize=(10,5))\n",
    "\n",
    "ax = subplot(1,2,1)\n",
    "ax.matshow(X,aspect='auto',cmap=cm.jet)\n",
    "\n",
    "subplot(1,2,2)\n",
    "xlabel('embedding dim 1',fontsize=20)\n",
    "ylabel('embedding dim 2',fontsize=20)\n",
    "\n",
    "scatter(X_mds[:,0],X_mds[:,1],c='#6699CC')\n",
    "\n",
    "savefig('../imgs/mds_base.svg')\n",
    "\n",
    "tight_layout()"
   ]
  },
  {
   "cell_type": "code",
   "execution_count": 45,
   "metadata": {},
   "outputs": [
    {
     "data": {
      "image/png": "[encoded data removed]",
      "text/plain": [
       "<Figure size 720x360 with 2 Axes>"
      ]
     },
     "metadata": {
      "needs_background": "light"
     },
     "output_type": "display_data"
    }
   ],
   "source": [
    "# fit with 6 clusters:\n",
    "n_clusters = 10\n",
    "plot_names = False\n",
    "names = np.arange(1,n_cells+1)\n",
    "\n",
    "kmeans = KMeans(n_clusters=n_clusters, init='k-means++',random_state=1)\n",
    "labels = kmeans.fit_predict(X)\n",
    "\n",
    "ix = np.argsort(labels)\n",
    "ordered_X = X[ix]\n",
    "ordered_X = ordered_X[:,ix]\n",
    "\n",
    "\n",
    "#embedding = MDS(n_components=2,dissimilarity='precomputed',random_state=1)\n",
    "embedding = Isomap(n_components=2,metric='precomputed')\n",
    "\n",
    "X_mds = embedding.fit_transform(X)\n",
    "\n",
    "\n",
    "figure(figsize=(10,5))\n",
    "\n",
    "ax = subplot(1,2,1)\n",
    "ax.matshow(ordered_X,aspect='auto',cmap=cm.jet)\n",
    "\n",
    "ax.axis('off')\n",
    "\n",
    "ax = subplot(1,2,2)\n",
    "ax.set_xlabel('embedding dim 1',fontsize=20)\n",
    "ax.set_ylabel('embedding dim 2',fontsize=20)\n",
    "ax.spines['right'].set_visible(False)\n",
    "ax.spines['top'].set_visible(False)\n",
    "\n",
    "scatterp = ax.scatter(X_mds[:,0],X_mds[:,1],c=labels,cmap=cm.Set3,label=labels)\n",
    "legend1 = ax.legend(*scatterp.legend_elements(),\n",
    "                    loc=\"lower left\", title=\"Clusters\")\n",
    "ax.add_artist(legend1)\n",
    "savefig('../imgs/clustering_example.svg')\n",
    "\n",
    "\n",
    "tight_layout()"
   ]
  },
  {
   "cell_type": "code",
   "execution_count": 50,
   "metadata": {},
   "outputs": [
    {
     "data": {
      "image/png": "[encoded data removed]",
      "text/plain": [
       "<Figure size 1800x720 with 10 Axes>"
      ]
     },
     "metadata": {
      "needs_background": "light"
     },
     "output_type": "display_data"
    }
   ],
   "source": [
    "from scipy.ndimage import gaussian_filter \n",
    "\n",
    "cluster_id = 3\n",
    "sigma = 2\n",
    "\n",
    "cluster_idxs = np.where(labels==cluster_id)[0]\n",
    "\n",
    "tot = len(cluster_idxs)\n",
    "n_cols = 5\n",
    "n_rows = tot // n_cols \n",
    "n_rows += tot % n_cols\n",
    "\n",
    "fig= plt.figure(figsize=(n_cols*5,n_rows*5))\n",
    "for i,idx in enumerate(cluster_idxs):\n",
    "    ax = fig.add_subplot(n_rows,n_cols,i+1)\n",
    "    ratemap1 = ratemaps[idx]\n",
    "    ratemap1 = gaussian_filter(ratemap1,sigma)\n",
    "    ax.matshow(ratemap1,aspect='auto',cmap=cm.jet)\n",
    "    ax.axis('off')\n",
    "\n",
    "#savefig('../imgs/top_right.svg')\n",
    "    \n",
    "\n",
    "tight_layout()"
   ]
  },
  {
   "cell_type": "code",
   "execution_count": 49,
   "metadata": {},
   "outputs": [
    {
     "data": {
      "text/plain": [
       "13"
      ]
     },
     "execution_count": 49,
     "metadata": {},
     "output_type": "execute_result"
    }
   ],
   "source": [
    "len(cluster_idxs)"
   ]
  },
  {
   "cell_type": "markdown",
   "metadata": {},
   "source": [
    "# 3D plot with spatial info"
   ]
  },
  {
   "cell_type": "code",
   "execution_count": 17,
   "metadata": {},
   "outputs": [
    {
     "data": {
      "application/vnd.plotly.v1+json": {
       "config": {
        "plotlyServerURL": "https://plot.ly"
       },
       "data": [
        {
         "hovertemplate": "MDS1=%{x}<br>MDS2=%{y}<br>spatial_info_1Square=%{z}<extra></extra>",
         "legendgroup": "",
         "marker": {
          "color": "#636efa",
          "symbol": "circle"
         },
         "mode": "markers",
         "name": "",
         "scene": "scene",
         "showlegend": false,
         "type": "scatter3d",
         "x": [
          -5.5120045704041205,
          2.3646009967871975,
          -8.023899893348242,
          -2.127739500381086,
          -1.03961014705195,
          -6.424551057787827,
          1.3982129567973531,
          9.40235272470259,
          0.18237750464960442,
          -3.615886351651601,
          6.574981542920644,
          15.248261530407886,
          -0.23780842786770365,
          -4.262892665169272,
          2.5119736750513266,
          3.7708532151092204,
          -0.7065212437633843,
          5.096991473145031,
          -0.9184015113721677,
          4.837210007224074,
          2.956817981903761,
          12.323684022521636,
          2.1875917075983082,
          2.0645335368527666,
          -12.731943522513296,
          -6.296190155041593,
          3.5946606431034427,
          -1.1443447651194514,
          0.8715920700877405,
          -1.7634151360103392,
          -2.9392988607749793,
          -0.43619161964946646,
          7.690294215590354,
          -10.072825849601019,
          1.034506713391965,
          15.593133642468228,
          -0.6348586170037653,
          -5.608096086458291,
          0.12131163134849034,
          -4.136697161740675,
          -11.051821561127033,
          -0.4963617117780234,
          -0.5816665963075994,
          -4.321367832574643,
          0.8868245572393192,
          14.114207428676927,
          7.664043988515838,
          -1.165237360753914,
          -2.8765006612983504,
          -2.2808812499288855,
          0.16357587048550157,
          -1.6662339070239973,
          12.3877815062766,
          7.039241889687333,
          5.983249259116721,
          13.810668368480284,
          6.028194662866814,
          -0.8294025587193604,
          -5.926641286848043,
          0.18501980933908987,
          -0.15060183685986978,
          -0.033774451159414215,
          0.19380066345129734,
          -2.1862010431931256,
          -3.7869411305732896,
          -3.643788032714566,
          -4.33530704820344,
          -3.0846799048923375,
          -0.3063705412475571,
          0.6152721633564199,
          -1.279155365881283,
          -1.293888054947949,
          -0.4124070540438958,
          -0.3131623475123656,
          -0.10532218623092329,
          -0.7167624423231559,
          -0.6498653530322455,
          -0.9677868186333947,
          -0.6348334816953911,
          1.2806690609199776,
          2.3126263761646557,
          -4.171462420532058,
          -6.074228880058699,
          -4.806463078722881,
          0.15846287317161623,
          -0.39841241276073464,
          -0.7411605562010972,
          -1.211527575980721,
          -10.84539811158019,
          -1.392785518004372,
          1.0303674929730047,
          8.829269409150813,
          4.686434909264947,
          -0.9998143251903663,
          -2.6299775314291063,
          -2.500185688620471,
          -0.615534218845251,
          -2.263622103666869,
          -2.5296050044994014,
          10.369910746593057,
          13.62136844074121,
          -4.3661614166141876,
          -9.452166540072518,
          -0.9135963903522895,
          -0.09153117618631998,
          -1.459200307884354,
          -3.716969873324882,
          -3.6896181641495303,
          7.345436807964929,
          -11.85611486743672,
          -1.4961162072682475,
          -11.714723581000406,
          8.256041064171384,
          -0.5649698999374968,
          -2.5569243277359526
         ],
         "y": [
          0.6329580976576373,
          -4.741324431409208,
          -6.550826688268038,
          -3.0749803039167594,
          -3.4586215518672074,
          -0.804304139229571,
          -0.9911878851993567,
          -1.2781493872954437,
          -0.06849215179829618,
          -5.1974746785895505,
          -9.437467515721496,
          1.2333049294888778,
          -2.3080214632131293,
          4.014167703500257,
          -0.43668122359480865,
          -1.8589817906639736,
          5.287762219130352,
          7.4068580182364645,
          -1.7417042317777125,
          -5.951567610019041,
          -3.720285358567871,
          0.03530297285434061,
          0.33479888892729504,
          -0.8867645056505898,
          10.246216354428412,
          -2.4293562364445984,
          1.5242377858716705,
          -1.994344032019403,
          -1.9027320822013867,
          1.10677564818635,
          0.03896688297130274,
          0.04564390878653092,
          -6.459919076380646,
          3.9977912128117135,
          -5.381622067735737,
          3.233715919639228,
          -1.9961870365018546,
          5.420287554442081,
          -0.30074750835267117,
          -0.5504882035566588,
          -3.682056008273291,
          3.379298961702875,
          -1.7582533421472448,
          1.6897287272704788,
          4.710288342416227,
          3.3314658326702036,
          -9.569610041277144,
          -0.16823653940677583,
          -0.428561305215491,
          2.7846601690597947,
          2.426443064816776,
          -0.74853569806076,
          1.2007675722597344,
          7.682580161451289,
          -1.1246573373559872,
          5.430474006538185,
          3.387393151326433,
          -0.3365496241096518,
          4.497706800430509,
          -0.6450321696020164,
          1.2468713873822146,
          1.1555329771898348,
          -0.22311529377176706,
          3.3098583843367395,
          -5.23450661813219,
          -0.39324747044252606,
          -3.4179949373828973,
          -5.681516179543336,
          0.05887781250178816,
          -1.8608118168737575,
          -2.693878819015678,
          -1.127147178018835,
          -0.6127635798826626,
          -1.1541771021157796,
          -0.3265576943987405,
          0.06978738954825528,
          -1.8452579439237191,
          -1.1576368919346038,
          -0.627115579730175,
          0.4509986482526401,
          -1.729598285104881,
          1.262925921502007,
          1.4724124190385732,
          -8.327335309409369,
          -0.10420979122429572,
          -0.3878248216456009,
          0.5115109441394475,
          -2.634539782689617,
          7.01279516199544,
          -1.2383259049554254,
          -0.09884898780324006,
          -2.054081210645239,
          6.946624243265867,
          -1.3761206503757406,
          1.0167553208801903,
          -0.3222706277871401,
          -0.35288994757157616,
          0.16478075932078806,
          -5.179129058748231,
          3.3285097821833363,
          10.916841821946406,
          0.7634309977637397,
          6.097622913256899,
          0.9308328118692407,
          -5.657739664929298,
          -1.7634369865604778,
          -1.5170897959581287,
          -1.656730636502074,
          2.1394326028217034,
          8.175299708625257,
          -1.6078588341214455,
          9.514043490540413,
          8.29277963633174,
          -0.3786505194216479,
          -5.191988875524161
         ],
         "z": [
          0.5966049455336526,
          0.4517154940949851,
          0.6771680028795208,
          0.1509747481448958,
          0.3105891192250317,
          0.3736453883322552,
          0.3495922391261227,
          1.088325794168158,
          0.2294866386328664,
          0.7535043146978746,
          1.0361821668187952,
          1.7142052535156205,
          0.1179014410005681,
          0.0953846743344701,
          0.3364891796506383,
          0.4065033942948635,
          0.4571419836910914,
          1.071313197623826,
          0.4197479193324059,
          0.7865659474126315,
          0.3941274224788177,
          0.9023796991203732,
          1.7132007943385492,
          0.1579701345023653,
          1.4598177875439535,
          0.8380652573249759,
          0.6674421667284598,
          0.6192261159249238,
          0.0405939619620648,
          0.1907226620384659,
          0.0919895466143602,
          0.1724432311808824,
          0.7162447370328425,
          0.6673213824696548,
          0.9857406139257192,
          2.0638998641752857,
          0.3120697964044081,
          0.7210025146225685,
          0.0493580359221125,
          0.0588816236521083,
          0.449457457441206,
          0.5190050351787423,
          0.2320735155975955,
          0.4072832426787299,
          0.3039217425310934,
          1.3378135776139946,
          1.7195407958476592,
          -0.0071824391280116,
          0.215898174588443,
          0.2150855275843739,
          0.278781217461838,
          0.1554837900833449,
          0.8523065851182713,
          0.721393277749095,
          0.6873966052662479,
          1.2206464888683306,
          0.4039802772399533,
          -0.0237069552138712,
          0.2557102252339459,
          0.0843561085084117,
          0.009860830606492,
          0.0125897160843803,
          0.0738620594968247,
          0.2553219697628318,
          0.1772271281663817,
          0.8259821562084032,
          0.4868157513290825,
          1.0573034178498226,
          -0.0206991153759639,
          1.2440449615141558,
          0.938054216608697,
          0.1502393898069384,
          0.0628710135603287,
          0.012873183303682,
          0.0051818253897979,
          0.0165960357847536,
          0.0265485910357824,
          0.0259038170585031,
          0.0219187770146155,
          0.1610432137716121,
          0.3588836882590265,
          0.4814138824363589,
          0.7009640156685106,
          0.7372540385049374,
          0.6549092246149463,
          -0.0090372079443787,
          -0.0248079018262768,
          0.1393101041014936,
          0.9640226231647748,
          0.8160337897128234,
          0.0062169317693298,
          2.3339156705451853,
          0.7415464676284024,
          0.0516580478257942,
          0.1669405820835676,
          0.154513707057103,
          0.0641690600384639,
          0.0928300541546218,
          0.1348023914559597,
          0.940544145857894,
          1.8111946152270268,
          0.3569081372614778,
          0.7612266365955653,
          0.025698268228277,
          0.4537959117563493,
          0.1159720529461902,
          0.304084964984406,
          0.605475579684396,
          0.6314010286566873,
          0.8170862622458165,
          0.3925785640544146,
          1.6037408889883409,
          1.291605818968728,
          -0.0282591204517155,
          0.1733835659476403
         ]
        }
       ],
       "layout": {
        "legend": {
         "tracegroupgap": 0
        },
        "margin": {
         "t": 60
        },
        "scene": {
         "domain": {
          "x": [
           0,
           1
          ],
          "y": [
           0,
           1
          ]
         },
         "xaxis": {
          "title": {
           "text": "MDS1"
          }
         },
         "yaxis": {
          "title": {
           "text": "MDS2"
          }
         },
         "zaxis": {
          "title": {
           "text": "spatial_info_1Square"
          }
         }
        },
        "template": {
         "data": {
          "bar": [
           {
            "error_x": {
             "color": "#2a3f5f"
            },
            "error_y": {
             "color": "#2a3f5f"
            },
            "marker": {
             "line": {
              "color": "#E5ECF6",
              "width": 0.5
             },
             "pattern": {
              "fillmode": "overlay",
              "size": 10,
              "solidity": 0.2
             }
            },
            "type": "bar"
           }
          ],
          "barpolar": [
           {
            "marker": {
             "line": {
              "color": "#E5ECF6",
              "width": 0.5
             },
             "pattern": {
              "fillmode": "overlay",
              "size": 10,
              "solidity": 0.2
             }
            },
            "type": "barpolar"
           }
          ],
          "carpet": [
           {
            "aaxis": {
             "endlinecolor": "#2a3f5f",
             "gridcolor": "white",
             "linecolor": "white",
             "minorgridcolor": "white",
             "startlinecolor": "#2a3f5f"
            },
            "baxis": {
             "endlinecolor": "#2a3f5f",
             "gridcolor": "white",
             "linecolor": "white",
             "minorgridcolor": "white",
             "startlinecolor": "#2a3f5f"
            },
            "type": "carpet"
           }
          ],
          "choropleth": [
           {
            "colorbar": {
             "outlinewidth": 0,
             "ticks": ""
            },
            "type": "choropleth"
           }
          ],
          "contour": [
           {
            "colorbar": {
             "outlinewidth": 0,
             "ticks": ""
            },
            "colorscale": [
             [
              0,
              "#0d0887"
             ],
             [
              0.1111111111111111,
              "#46039f"
             ],
             [
              0.2222222222222222,
              "#7201a8"
             ],
             [
              0.3333333333333333,
              "#9c179e"
             ],
             [
              0.4444444444444444,
              "#bd3786"
             ],
             [
              0.5555555555555556,
              "#d8576b"
             ],
             [
              0.6666666666666666,
              "#ed7953"
             ],
             [
              0.7777777777777778,
              "#fb9f3a"
             ],
             [
              0.8888888888888888,
              "#fdca26"
             ],
             [
              1,
              "#f0f921"
             ]
            ],
            "type": "contour"
           }
          ],
          "contourcarpet": [
           {
            "colorbar": {
             "outlinewidth": 0,
             "ticks": ""
            },
            "type": "contourcarpet"
           }
          ],
          "heatmap": [
           {
            "colorbar": {
             "outlinewidth": 0,
             "ticks": ""
            },
            "colorscale": [
             [
              0,
              "#0d0887"
             ],
             [
              0.1111111111111111,
              "#46039f"
             ],
             [
              0.2222222222222222,
              "#7201a8"
             ],
             [
              0.3333333333333333,
              "#9c179e"
             ],
             [
              0.4444444444444444,
              "#bd3786"
             ],
             [
              0.5555555555555556,
              "#d8576b"
             ],
             [
              0.6666666666666666,
              "#ed7953"
             ],
             [
              0.7777777777777778,
              "#fb9f3a"
             ],
             [
              0.8888888888888888,
              "#fdca26"
             ],
             [
              1,
              "#f0f921"
             ]
            ],
            "type": "heatmap"
           }
          ],
          "heatmapgl": [
           {
            "colorbar": {
             "outlinewidth": 0,
             "ticks": ""
            },
            "colorscale": [
             [
              0,
              "#0d0887"
             ],
             [
              0.1111111111111111,
              "#46039f"
             ],
             [
              0.2222222222222222,
              "#7201a8"
             ],
             [
              0.3333333333333333,
              "#9c179e"
             ],
             [
              0.4444444444444444,
              "#bd3786"
             ],
             [
              0.5555555555555556,
              "#d8576b"
             ],
             [
              0.6666666666666666,
              "#ed7953"
             ],
             [
              0.7777777777777778,
              "#fb9f3a"
             ],
             [
              0.8888888888888888,
              "#fdca26"
             ],
             [
              1,
              "#f0f921"
             ]
            ],
            "type": "heatmapgl"
           }
          ],
          "histogram": [
           {
            "marker": {
             "pattern": {
              "fillmode": "overlay",
              "size": 10,
              "solidity": 0.2
             }
            },
            "type": "histogram"
           }
          ],
          "histogram2d": [
           {
            "colorbar": {
             "outlinewidth": 0,
             "ticks": ""
            },
            "colorscale": [
             [
              0,
              "#0d0887"
             ],
             [
              0.1111111111111111,
              "#46039f"
             ],
             [
              0.2222222222222222,
              "#7201a8"
             ],
             [
              0.3333333333333333,
              "#9c179e"
             ],
             [
              0.4444444444444444,
              "#bd3786"
             ],
             [
              0.5555555555555556,
              "#d8576b"
             ],
             [
              0.6666666666666666,
              "#ed7953"
             ],
             [
              0.7777777777777778,
              "#fb9f3a"
             ],
             [
              0.8888888888888888,
              "#fdca26"
             ],
             [
              1,
              "#f0f921"
             ]
            ],
            "type": "histogram2d"
           }
          ],
          "histogram2dcontour": [
           {
            "colorbar": {
             "outlinewidth": 0,
             "ticks": ""
            },
            "colorscale": [
             [
              0,
              "#0d0887"
             ],
             [
              0.1111111111111111,
              "#46039f"
             ],
             [
              0.2222222222222222,
              "#7201a8"
             ],
             [
              0.3333333333333333,
              "#9c179e"
             ],
             [
              0.4444444444444444,
              "#bd3786"
             ],
             [
              0.5555555555555556,
              "#d8576b"
             ],
             [
              0.6666666666666666,
              "#ed7953"
             ],
             [
              0.7777777777777778,
              "#fb9f3a"
             ],
             [
              0.8888888888888888,
              "#fdca26"
             ],
             [
              1,
              "#f0f921"
             ]
            ],
            "type": "histogram2dcontour"
           }
          ],
          "mesh3d": [
           {
            "colorbar": {
             "outlinewidth": 0,
             "ticks": ""
            },
            "type": "mesh3d"
           }
          ],
          "parcoords": [
           {
            "line": {
             "colorbar": {
              "outlinewidth": 0,
              "ticks": ""
             }
            },
            "type": "parcoords"
           }
          ],
          "pie": [
           {
            "automargin": true,
            "type": "pie"
           }
          ],
          "scatter": [
           {
            "marker": {
             "colorbar": {
              "outlinewidth": 0,
              "ticks": ""
             }
            },
            "type": "scatter"
           }
          ],
          "scatter3d": [
           {
            "line": {
             "colorbar": {
              "outlinewidth": 0,
              "ticks": ""
             }
            },
            "marker": {
             "colorbar": {
              "outlinewidth": 0,
              "ticks": ""
             }
            },
            "type": "scatter3d"
           }
          ],
          "scattercarpet": [
           {
            "marker": {
             "colorbar": {
              "outlinewidth": 0,
              "ticks": ""
             }
            },
            "type": "scattercarpet"
           }
          ],
          "scattergeo": [
           {
            "marker": {
             "colorbar": {
              "outlinewidth": 0,
              "ticks": ""
             }
            },
            "type": "scattergeo"
           }
          ],
          "scattergl": [
           {
            "marker": {
             "colorbar": {
              "outlinewidth": 0,
              "ticks": ""
             }
            },
            "type": "scattergl"
           }
          ],
          "scattermapbox": [
           {
            "marker": {
             "colorbar": {
              "outlinewidth": 0,
              "ticks": ""
             }
            },
            "type": "scattermapbox"
           }
          ],
          "scatterpolar": [
           {
            "marker": {
             "colorbar": {
              "outlinewidth": 0,
              "ticks": ""
             }
            },
            "type": "scatterpolar"
           }
          ],
          "scatterpolargl": [
           {
            "marker": {
             "colorbar": {
              "outlinewidth": 0,
              "ticks": ""
             }
            },
            "type": "scatterpolargl"
           }
          ],
          "scatterternary": [
           {
            "marker": {
             "colorbar": {
              "outlinewidth": 0,
              "ticks": ""
             }
            },
            "type": "scatterternary"
           }
          ],
          "surface": [
           {
            "colorbar": {
             "outlinewidth": 0,
             "ticks": ""
            },
            "colorscale": [
             [
              0,
              "#0d0887"
             ],
             [
              0.1111111111111111,
              "#46039f"
             ],
             [
              0.2222222222222222,
              "#7201a8"
             ],
             [
              0.3333333333333333,
              "#9c179e"
             ],
             [
              0.4444444444444444,
              "#bd3786"
             ],
             [
              0.5555555555555556,
              "#d8576b"
             ],
             [
              0.6666666666666666,
              "#ed7953"
             ],
             [
              0.7777777777777778,
              "#fb9f3a"
             ],
             [
              0.8888888888888888,
              "#fdca26"
             ],
             [
              1,
              "#f0f921"
             ]
            ],
            "type": "surface"
           }
          ],
          "table": [
           {
            "cells": {
             "fill": {
              "color": "#EBF0F8"
             },
             "line": {
              "color": "white"
             }
            },
            "header": {
             "fill": {
              "color": "#C8D4E3"
             },
             "line": {
              "color": "white"
             }
            },
            "type": "table"
           }
          ]
         },
         "layout": {
          "annotationdefaults": {
           "arrowcolor": "#2a3f5f",
           "arrowhead": 0,
           "arrowwidth": 1
          },
          "autotypenumbers": "strict",
          "coloraxis": {
           "colorbar": {
            "outlinewidth": 0,
            "ticks": ""
           }
          },
          "colorscale": {
           "diverging": [
            [
             0,
             "#8e0152"
            ],
            [
             0.1,
             "#c51b7d"
            ],
            [
             0.2,
             "#de77ae"
            ],
            [
             0.3,
             "#f1b6da"
            ],
            [
             0.4,
             "#fde0ef"
            ],
            [
             0.5,
             "#f7f7f7"
            ],
            [
             0.6,
             "#e6f5d0"
            ],
            [
             0.7,
             "#b8e186"
            ],
            [
             0.8,
             "#7fbc41"
            ],
            [
             0.9,
             "#4d9221"
            ],
            [
             1,
             "#276419"
            ]
           ],
           "sequential": [
            [
             0,
             "#0d0887"
            ],
            [
             0.1111111111111111,
             "#46039f"
            ],
            [
             0.2222222222222222,
             "#7201a8"
            ],
            [
             0.3333333333333333,
             "#9c179e"
            ],
            [
             0.4444444444444444,
             "#bd3786"
            ],
            [
             0.5555555555555556,
             "#d8576b"
            ],
            [
             0.6666666666666666,
             "#ed7953"
            ],
            [
             0.7777777777777778,
             "#fb9f3a"
            ],
            [
             0.8888888888888888,
             "#fdca26"
            ],
            [
             1,
             "#f0f921"
            ]
           ],
           "sequentialminus": [
            [
             0,
             "#0d0887"
            ],
            [
             0.1111111111111111,
             "#46039f"
            ],
            [
             0.2222222222222222,
             "#7201a8"
            ],
            [
             0.3333333333333333,
             "#9c179e"
            ],
            [
             0.4444444444444444,
             "#bd3786"
            ],
            [
             0.5555555555555556,
             "#d8576b"
            ],
            [
             0.6666666666666666,
             "#ed7953"
            ],
            [
             0.7777777777777778,
             "#fb9f3a"
            ],
            [
             0.8888888888888888,
             "#fdca26"
            ],
            [
             1,
             "#f0f921"
            ]
           ]
          },
          "colorway": [
           "#636efa",
           "#EF553B",
           "#00cc96",
           "#ab63fa",
           "#FFA15A",
           "#19d3f3",
           "#FF6692",
           "#B6E880",
           "#FF97FF",
           "#FECB52"
          ],
          "font": {
           "color": "#2a3f5f"
          },
          "geo": {
           "bgcolor": "white",
           "lakecolor": "white",
           "landcolor": "#E5ECF6",
           "showlakes": true,
           "showland": true,
           "subunitcolor": "white"
          },
          "hoverlabel": {
           "align": "left"
          },
          "hovermode": "closest",
          "mapbox": {
           "style": "light"
          },
          "paper_bgcolor": "white",
          "plot_bgcolor": "#E5ECF6",
          "polar": {
           "angularaxis": {
            "gridcolor": "white",
            "linecolor": "white",
            "ticks": ""
           },
           "bgcolor": "#E5ECF6",
           "radialaxis": {
            "gridcolor": "white",
            "linecolor": "white",
            "ticks": ""
           }
          },
          "scene": {
           "xaxis": {
            "backgroundcolor": "#E5ECF6",
            "gridcolor": "white",
            "gridwidth": 2,
            "linecolor": "white",
            "showbackground": true,
            "ticks": "",
            "zerolinecolor": "white"
           },
           "yaxis": {
            "backgroundcolor": "#E5ECF6",
            "gridcolor": "white",
            "gridwidth": 2,
            "linecolor": "white",
            "showbackground": true,
            "ticks": "",
            "zerolinecolor": "white"
           },
           "zaxis": {
            "backgroundcolor": "#E5ECF6",
            "gridcolor": "white",
            "gridwidth": 2,
            "linecolor": "white",
            "showbackground": true,
            "ticks": "",
            "zerolinecolor": "white"
           }
          },
          "shapedefaults": {
           "line": {
            "color": "#2a3f5f"
           }
          },
          "ternary": {
           "aaxis": {
            "gridcolor": "white",
            "linecolor": "white",
            "ticks": ""
           },
           "baxis": {
            "gridcolor": "white",
            "linecolor": "white",
            "ticks": ""
           },
           "bgcolor": "#E5ECF6",
           "caxis": {
            "gridcolor": "white",
            "linecolor": "white",
            "ticks": ""
           }
          },
          "title": {
           "x": 0.05
          },
          "xaxis": {
           "automargin": true,
           "gridcolor": "white",
           "linecolor": "white",
           "ticks": "",
           "title": {
            "standoff": 15
           },
           "zerolinecolor": "white",
           "zerolinewidth": 2
          },
          "yaxis": {
           "automargin": true,
           "gridcolor": "white",
           "linecolor": "white",
           "ticks": "",
           "title": {
            "standoff": 15
           },
           "zerolinecolor": "white",
           "zerolinewidth": 2
          }
         }
        }
       }
      }
     },
     "metadata": {},
     "output_type": "display_data"
    }
   ],
   "source": [
    "import plotly.express as px\n",
    "\n",
    "X = ot_dists\n",
    "point_size = 1\n",
    "n_cells = X.shape[0]\n",
    "\n",
    "\n",
    "\n",
    "\n",
    "plot_names = True\n",
    "names = np.arange(1,n_cells+1)\n",
    "\n",
    "\n",
    "#embedding = MDS(n_components=2,dissimilarity='precomputed',random_state=1)\n",
    "embedding = Isomap(n_components=2,metric='precomputed')\n",
    "\n",
    "X_mds = embedding.fit_transform(X)\n",
    "\n",
    "df = cell_properties\n",
    "df['MDS1'] = X_mds[:,0]\n",
    "df['MDS2'] = X_mds[:,1]\n",
    "df['size'] = [point_size for i in range(len(df))]\n",
    "\n",
    "fig = px.scatter_3d(df, x='MDS1', y='MDS2', z=f'spatial_info_{session}')\n",
    "\n",
    "fig.show()"
   ]
  },
  {
   "cell_type": "code",
   "execution_count": 27,
   "metadata": {},
   "outputs": [
    {
     "data": {
      "application/vnd.plotly.v1+json": {
       "config": {
        "plotlyServerURL": "https://plot.ly"
       },
       "data": [
        {
         "hovertemplate": "MDS1=%{x}<br>MDS2=%{y}<br>spatial_info_1Square=%{z}<extra></extra>",
         "legendgroup": "",
         "marker": {
          "color": "#636efa",
          "symbol": "circle"
         },
         "mode": "markers",
         "name": "",
         "scene": "scene",
         "showlegend": false,
         "type": "scatter3d",
         "x": [
          0.2385263065576259,
          -0.6656880731404355,
          -0.2876973948679227,
          -0.5011736029645768,
          -0.5610548835659726,
          -0.399796382994626,
          -0.4606632301017735,
          -0.1443792431068156,
          0.16968161479540286,
          -0.13689118429517036,
          -0.7205961700265349,
          0.38493237040059436,
          -0.5122556688501717,
          0.5334696327577015,
          0.17130831297503568,
          -0.08913800400958483,
          0.7896001185296518,
          0.40507790612312966,
          -0.14623922215001725,
          -0.37463179521756473,
          -0.6153346474790123,
          -0.024394067717883158,
          0.6821534639181777,
          -0.2794452226139742,
          0.7273188622902947,
          0.17256261233494913,
          0.10538170209056336,
          -0.41459130810531736,
          -0.2931537956376221,
          -0.13662343328425453,
          0.3247469817418219,
          0.5196128268411734,
          -0.5695324272520239,
          0.4416580670465664,
          -0.6328870575464656,
          0.30700283162710035,
          -0.4808290575940001,
          0.6776544163914352,
          0.32769419525977705,
          0.04783870892747811,
          -0.07805405655541445,
          0.7484208800336482,
          0.07381686158036983,
          0.01105521274121666,
          0.7591350666527907,
          0.28073364268391515,
          -0.5260879993193885,
          -0.08447803436192457,
          -0.2249579257747107,
          0.7273562668379696,
          0.6839860094928137,
          -0.7122343555122436,
          0.006373915336485642,
          0.48147247011557237,
          -0.3725373598683784,
          0.3660713938241842,
          0.30654550395300195,
          -0.2662967184160374,
          0.4454810351620304,
          0.4132947545397234,
          0.5923753474323269,
          0.5499834298789952,
          0.2661080159378896,
          0.7439509174766505,
          -0.5043780894052325,
          -0.2706899933484342,
          -0.4136975844242696,
          -0.44753117886610905,
          -0.1515475681112378,
          0.6230592978721822,
          -0.20832745732833646,
          -0.5683864194014281,
          -0.39043950144138634,
          -0.6445287114716923,
          -0.306062766397662,
          -0.32458126991919833,
          -0.7644479595815675,
          -0.5866917902409576,
          -0.5575568583111001,
          0.05493041893479042,
          -0.25064591492532967,
          0.31161339685696976,
          0.5457045933081308,
          -0.6444295597552012,
          0.19119318181131187,
          -0.2557605681138929,
          0.2197338000150377,
          -0.6855420091705113,
          0.5184638830866266,
          -0.4639637623979931,
          0.019083553908923478,
          -0.18249406232441728,
          0.5181037024078589,
          -0.7676824690265115,
          0.605922396020522,
          0.31484975542816707,
          0.2746554529531383,
          0.16261945453528445,
          -0.6753357427240315,
          0.16560120195119665,
          0.5386319483872065,
          0.0063873102839999436,
          0.5558915882580993,
          0.36454745434874963,
          -0.7729930889561037,
          -0.673314188012192,
          0.044972470226206575,
          0.49801402288449953,
          -0.07858364387618715,
          0.567618429614012,
          0.554594327688737,
          0.49609516642930634,
          0.42550983472861714,
          -0.03316771720048094,
          -0.7257560991663592
         ],
         "y": [
          0.7389670712146618,
          -0.37823309596980376,
          0.673855278864116,
          0.20869904407844544,
          -0.07323411324591851,
          0.7453696071280547,
          -0.6197300670827385,
          -0.7202969086057109,
          -0.1581212882496024,
          0.22008360279254513,
          -0.2454290349194678,
          -0.4454988423599808,
          -0.23727769302921814,
          0.6052425207691758,
          -0.6515115885460475,
          -0.6511641123476593,
          -0.09442865375343039,
          -0.6178221092400955,
          -0.22231707291944303,
          -0.4830608755386223,
          -0.4974815598051344,
          -0.7320169434083131,
          -0.29498472000664605,
          -0.6824436151620897,
          0.3943703635179875,
          0.550272193821134,
          -0.5124120216188597,
          -0.13306759974005045,
          -0.46329440130941446,
          0.4771103919687368,
          0.6110340358034324,
          -0.15448737984235786,
          -0.5193626415839262,
          0.47009623287950264,
          -0.3211886366542813,
          -0.608119834639511,
          -0.4752129355296425,
          0.38365063751953216,
          -0.13494360259398894,
          0.6855372116125553,
          0.792988890566788,
          -0.019248390220608955,
          -0.16239828902838596,
          0.5868418114243715,
          -0.27950094817553733,
          -0.743340762903253,
          -0.39378753697998503,
          0.6223091387428815,
          0.790423283316276,
          0.17909663239561743,
          -0.4257712400687203,
          0.34719213937598786,
          -0.7918608467438827,
          -0.6884724125483602,
          -0.6529200799169098,
          -0.7319999567888992,
          -0.6942890036446905,
          0.5315626714112776,
          0.588724046993666,
          0.019654856799145328,
          -0.2083846538642077,
          -0.24534085872961975,
          -0.047264870901409836,
          0.22288613711159327,
          0.5724754962642752,
          0.7296970436245307,
          0.6278236044029972,
          0.3817713560061588,
          0.07846100241516181,
          -0.03759411401005307,
          -0.07065103143291078,
          0.5661605660309255,
          0.1428387591461876,
          -0.11782688168484008,
          -0.253497428476649,
          0.2848622476936775,
          -0.12208682760028225,
          0.4274855524239702,
          0.06870820131929958,
          -0.649814295482682,
          -0.7581130415905049,
          0.7401034777571616,
          0.41466133746938894,
          0.34583170995433293,
          -0.27509776344152004,
          0.005467203552909355,
          0.2792430472827889,
          -0.017888995761176966,
          0.5248056196210661,
          0.4769692273700972,
          -0.5608182037328346,
          -0.6123022763588075,
          -0.6281328168895981,
          0.11726477200281896,
          0.3156489988473275,
          0.41754649240452735,
          -0.23902287131575742,
          0.6788420594990126,
          0.13854131163752886,
          -0.7649770299258172,
          -0.45165475190286897,
          0.7630268910016701,
          0.4936908836429228,
          0.23117146550098977,
          0.0008094390874783117,
          0.4223887697265182,
          0.45719597418679714,
          0.18753942364124102,
          -0.8016010135938296,
          0.6122201412826689,
          0.089390639403831,
          0.6854564307746825,
          -0.6599198439443368,
          0.25393696685950057,
          0.2547164734189647
         ],
         "z": [
          0.5966049455336526,
          0.4517154940949851,
          0.6771680028795208,
          0.1509747481448958,
          0.3105891192250317,
          0.3736453883322552,
          0.3495922391261227,
          1.088325794168158,
          0.2294866386328664,
          0.7535043146978746,
          1.0361821668187952,
          1.7142052535156205,
          0.1179014410005681,
          0.0953846743344701,
          0.3364891796506383,
          0.4065033942948635,
          0.4571419836910914,
          1.071313197623826,
          0.4197479193324059,
          0.7865659474126315,
          0.3941274224788177,
          0.9023796991203732,
          1.7132007943385492,
          0.1579701345023653,
          1.4598177875439535,
          0.8380652573249759,
          0.6674421667284598,
          0.6192261159249238,
          0.0405939619620648,
          0.1907226620384659,
          0.0919895466143602,
          0.1724432311808824,
          0.7162447370328425,
          0.6673213824696548,
          0.9857406139257192,
          2.0638998641752857,
          0.3120697964044081,
          0.7210025146225685,
          0.0493580359221125,
          0.0588816236521083,
          0.449457457441206,
          0.5190050351787423,
          0.2320735155975955,
          0.4072832426787299,
          0.3039217425310934,
          1.3378135776139946,
          1.7195407958476592,
          -0.0071824391280116,
          0.215898174588443,
          0.2150855275843739,
          0.278781217461838,
          0.1554837900833449,
          0.8523065851182713,
          0.721393277749095,
          0.6873966052662479,
          1.2206464888683306,
          0.4039802772399533,
          -0.0237069552138712,
          0.2557102252339459,
          0.0843561085084117,
          0.009860830606492,
          0.0125897160843803,
          0.0738620594968247,
          0.2553219697628318,
          0.1772271281663817,
          0.8259821562084032,
          0.4868157513290825,
          1.0573034178498226,
          -0.0206991153759639,
          1.2440449615141558,
          0.938054216608697,
          0.1502393898069384,
          0.0628710135603287,
          0.012873183303682,
          0.0051818253897979,
          0.0165960357847536,
          0.0265485910357824,
          0.0259038170585031,
          0.0219187770146155,
          0.1610432137716121,
          0.3588836882590265,
          0.4814138824363589,
          0.7009640156685106,
          0.7372540385049374,
          0.6549092246149463,
          -0.0090372079443787,
          -0.0248079018262768,
          0.1393101041014936,
          0.9640226231647748,
          0.8160337897128234,
          0.0062169317693298,
          2.3339156705451853,
          0.7415464676284024,
          0.0516580478257942,
          0.1669405820835676,
          0.154513707057103,
          0.0641690600384639,
          0.0928300541546218,
          0.1348023914559597,
          0.940544145857894,
          1.8111946152270268,
          0.3569081372614778,
          0.7612266365955653,
          0.025698268228277,
          0.4537959117563493,
          0.1159720529461902,
          0.304084964984406,
          0.605475579684396,
          0.6314010286566873,
          0.8170862622458165,
          0.3925785640544146,
          1.6037408889883409,
          1.291605818968728,
          -0.0282591204517155,
          0.1733835659476403
         ]
        }
       ],
       "layout": {
        "legend": {
         "tracegroupgap": 0
        },
        "margin": {
         "t": 60
        },
        "scene": {
         "domain": {
          "x": [
           0,
           1
          ],
          "y": [
           0,
           1
          ]
         },
         "xaxis": {
          "title": {
           "text": "MDS1"
          }
         },
         "yaxis": {
          "title": {
           "text": "MDS2"
          }
         },
         "zaxis": {
          "title": {
           "text": "spatial_info_1Square"
          }
         }
        },
        "template": {
         "data": {
          "bar": [
           {
            "error_x": {
             "color": "#2a3f5f"
            },
            "error_y": {
             "color": "#2a3f5f"
            },
            "marker": {
             "line": {
              "color": "#E5ECF6",
              "width": 0.5
             },
             "pattern": {
              "fillmode": "overlay",
              "size": 10,
              "solidity": 0.2
             }
            },
            "type": "bar"
           }
          ],
          "barpolar": [
           {
            "marker": {
             "line": {
              "color": "#E5ECF6",
              "width": 0.5
             },
             "pattern": {
              "fillmode": "overlay",
              "size": 10,
              "solidity": 0.2
             }
            },
            "type": "barpolar"
           }
          ],
          "carpet": [
           {
            "aaxis": {
             "endlinecolor": "#2a3f5f",
             "gridcolor": "white",
             "linecolor": "white",
             "minorgridcolor": "white",
             "startlinecolor": "#2a3f5f"
            },
            "baxis": {
             "endlinecolor": "#2a3f5f",
             "gridcolor": "white",
             "linecolor": "white",
             "minorgridcolor": "white",
             "startlinecolor": "#2a3f5f"
            },
            "type": "carpet"
           }
          ],
          "choropleth": [
           {
            "colorbar": {
             "outlinewidth": 0,
             "ticks": ""
            },
            "type": "choropleth"
           }
          ],
          "contour": [
           {
            "colorbar": {
             "outlinewidth": 0,
             "ticks": ""
            },
            "colorscale": [
             [
              0,
              "#0d0887"
             ],
             [
              0.1111111111111111,
              "#46039f"
             ],
             [
              0.2222222222222222,
              "#7201a8"
             ],
             [
              0.3333333333333333,
              "#9c179e"
             ],
             [
              0.4444444444444444,
              "#bd3786"
             ],
             [
              0.5555555555555556,
              "#d8576b"
             ],
             [
              0.6666666666666666,
              "#ed7953"
             ],
             [
              0.7777777777777778,
              "#fb9f3a"
             ],
             [
              0.8888888888888888,
              "#fdca26"
             ],
             [
              1,
              "#f0f921"
             ]
            ],
            "type": "contour"
           }
          ],
          "contourcarpet": [
           {
            "colorbar": {
             "outlinewidth": 0,
             "ticks": ""
            },
            "type": "contourcarpet"
           }
          ],
          "heatmap": [
           {
            "colorbar": {
             "outlinewidth": 0,
             "ticks": ""
            },
            "colorscale": [
             [
              0,
              "#0d0887"
             ],
             [
              0.1111111111111111,
              "#46039f"
             ],
             [
              0.2222222222222222,
              "#7201a8"
             ],
             [
              0.3333333333333333,
              "#9c179e"
             ],
             [
              0.4444444444444444,
              "#bd3786"
             ],
             [
              0.5555555555555556,
              "#d8576b"
             ],
             [
              0.6666666666666666,
              "#ed7953"
             ],
             [
              0.7777777777777778,
              "#fb9f3a"
             ],
             [
              0.8888888888888888,
              "#fdca26"
             ],
             [
              1,
              "#f0f921"
             ]
            ],
            "type": "heatmap"
           }
          ],
          "heatmapgl": [
           {
            "colorbar": {
             "outlinewidth": 0,
             "ticks": ""
            },
            "colorscale": [
             [
              0,
              "#0d0887"
             ],
             [
              0.1111111111111111,
              "#46039f"
             ],
             [
              0.2222222222222222,
              "#7201a8"
             ],
             [
              0.3333333333333333,
              "#9c179e"
             ],
             [
              0.4444444444444444,
              "#bd3786"
             ],
             [
              0.5555555555555556,
              "#d8576b"
             ],
             [
              0.6666666666666666,
              "#ed7953"
             ],
             [
              0.7777777777777778,
              "#fb9f3a"
             ],
             [
              0.8888888888888888,
              "#fdca26"
             ],
             [
              1,
              "#f0f921"
             ]
            ],
            "type": "heatmapgl"
           }
          ],
          "histogram": [
           {
            "marker": {
             "pattern": {
              "fillmode": "overlay",
              "size": 10,
              "solidity": 0.2
             }
            },
            "type": "histogram"
           }
          ],
          "histogram2d": [
           {
            "colorbar": {
             "outlinewidth": 0,
             "ticks": ""
            },
            "colorscale": [
             [
              0,
              "#0d0887"
             ],
             [
              0.1111111111111111,
              "#46039f"
             ],
             [
              0.2222222222222222,
              "#7201a8"
             ],
             [
              0.3333333333333333,
              "#9c179e"
             ],
             [
              0.4444444444444444,
              "#bd3786"
             ],
             [
              0.5555555555555556,
              "#d8576b"
             ],
             [
              0.6666666666666666,
              "#ed7953"
             ],
             [
              0.7777777777777778,
              "#fb9f3a"
             ],
             [
              0.8888888888888888,
              "#fdca26"
             ],
             [
              1,
              "#f0f921"
             ]
            ],
            "type": "histogram2d"
           }
          ],
          "histogram2dcontour": [
           {
            "colorbar": {
             "outlinewidth": 0,
             "ticks": ""
            },
            "colorscale": [
             [
              0,
              "#0d0887"
             ],
             [
              0.1111111111111111,
              "#46039f"
             ],
             [
              0.2222222222222222,
              "#7201a8"
             ],
             [
              0.3333333333333333,
              "#9c179e"
             ],
             [
              0.4444444444444444,
              "#bd3786"
             ],
             [
              0.5555555555555556,
              "#d8576b"
             ],
             [
              0.6666666666666666,
              "#ed7953"
             ],
             [
              0.7777777777777778,
              "#fb9f3a"
             ],
             [
              0.8888888888888888,
              "#fdca26"
             ],
             [
              1,
              "#f0f921"
             ]
            ],
            "type": "histogram2dcontour"
           }
          ],
          "mesh3d": [
           {
            "colorbar": {
             "outlinewidth": 0,
             "ticks": ""
            },
            "type": "mesh3d"
           }
          ],
          "parcoords": [
           {
            "line": {
             "colorbar": {
              "outlinewidth": 0,
              "ticks": ""
             }
            },
            "type": "parcoords"
           }
          ],
          "pie": [
           {
            "automargin": true,
            "type": "pie"
           }
          ],
          "scatter": [
           {
            "marker": {
             "colorbar": {
              "outlinewidth": 0,
              "ticks": ""
             }
            },
            "type": "scatter"
           }
          ],
          "scatter3d": [
           {
            "line": {
             "colorbar": {
              "outlinewidth": 0,
              "ticks": ""
             }
            },
            "marker": {
             "colorbar": {
              "outlinewidth": 0,
              "ticks": ""
             }
            },
            "type": "scatter3d"
           }
          ],
          "scattercarpet": [
           {
            "marker": {
             "colorbar": {
              "outlinewidth": 0,
              "ticks": ""
             }
            },
            "type": "scattercarpet"
           }
          ],
          "scattergeo": [
           {
            "marker": {
             "colorbar": {
              "outlinewidth": 0,
              "ticks": ""
             }
            },
            "type": "scattergeo"
           }
          ],
          "scattergl": [
           {
            "marker": {
             "colorbar": {
              "outlinewidth": 0,
              "ticks": ""
             }
            },
            "type": "scattergl"
           }
          ],
          "scattermapbox": [
           {
            "marker": {
             "colorbar": {
              "outlinewidth": 0,
              "ticks": ""
             }
            },
            "type": "scattermapbox"
           }
          ],
          "scatterpolar": [
           {
            "marker": {
             "colorbar": {
              "outlinewidth": 0,
              "ticks": ""
             }
            },
            "type": "scatterpolar"
           }
          ],
          "scatterpolargl": [
           {
            "marker": {
             "colorbar": {
              "outlinewidth": 0,
              "ticks": ""
             }
            },
            "type": "scatterpolargl"
           }
          ],
          "scatterternary": [
           {
            "marker": {
             "colorbar": {
              "outlinewidth": 0,
              "ticks": ""
             }
            },
            "type": "scatterternary"
           }
          ],
          "surface": [
           {
            "colorbar": {
             "outlinewidth": 0,
             "ticks": ""
            },
            "colorscale": [
             [
              0,
              "#0d0887"
             ],
             [
              0.1111111111111111,
              "#46039f"
             ],
             [
              0.2222222222222222,
              "#7201a8"
             ],
             [
              0.3333333333333333,
              "#9c179e"
             ],
             [
              0.4444444444444444,
              "#bd3786"
             ],
             [
              0.5555555555555556,
              "#d8576b"
             ],
             [
              0.6666666666666666,
              "#ed7953"
             ],
             [
              0.7777777777777778,
              "#fb9f3a"
             ],
             [
              0.8888888888888888,
              "#fdca26"
             ],
             [
              1,
              "#f0f921"
             ]
            ],
            "type": "surface"
           }
          ],
          "table": [
           {
            "cells": {
             "fill": {
              "color": "#EBF0F8"
             },
             "line": {
              "color": "white"
             }
            },
            "header": {
             "fill": {
              "color": "#C8D4E3"
             },
             "line": {
              "color": "white"
             }
            },
            "type": "table"
           }
          ]
         },
         "layout": {
          "annotationdefaults": {
           "arrowcolor": "#2a3f5f",
           "arrowhead": 0,
           "arrowwidth": 1
          },
          "autotypenumbers": "strict",
          "coloraxis": {
           "colorbar": {
            "outlinewidth": 0,
            "ticks": ""
           }
          },
          "colorscale": {
           "diverging": [
            [
             0,
             "#8e0152"
            ],
            [
             0.1,
             "#c51b7d"
            ],
            [
             0.2,
             "#de77ae"
            ],
            [
             0.3,
             "#f1b6da"
            ],
            [
             0.4,
             "#fde0ef"
            ],
            [
             0.5,
             "#f7f7f7"
            ],
            [
             0.6,
             "#e6f5d0"
            ],
            [
             0.7,
             "#b8e186"
            ],
            [
             0.8,
             "#7fbc41"
            ],
            [
             0.9,
             "#4d9221"
            ],
            [
             1,
             "#276419"
            ]
           ],
           "sequential": [
            [
             0,
             "#0d0887"
            ],
            [
             0.1111111111111111,
             "#46039f"
            ],
            [
             0.2222222222222222,
             "#7201a8"
            ],
            [
             0.3333333333333333,
             "#9c179e"
            ],
            [
             0.4444444444444444,
             "#bd3786"
            ],
            [
             0.5555555555555556,
             "#d8576b"
            ],
            [
             0.6666666666666666,
             "#ed7953"
            ],
            [
             0.7777777777777778,
             "#fb9f3a"
            ],
            [
             0.8888888888888888,
             "#fdca26"
            ],
            [
             1,
             "#f0f921"
            ]
           ],
           "sequentialminus": [
            [
             0,
             "#0d0887"
            ],
            [
             0.1111111111111111,
             "#46039f"
            ],
            [
             0.2222222222222222,
             "#7201a8"
            ],
            [
             0.3333333333333333,
             "#9c179e"
            ],
            [
             0.4444444444444444,
             "#bd3786"
            ],
            [
             0.5555555555555556,
             "#d8576b"
            ],
            [
             0.6666666666666666,
             "#ed7953"
            ],
            [
             0.7777777777777778,
             "#fb9f3a"
            ],
            [
             0.8888888888888888,
             "#fdca26"
            ],
            [
             1,
             "#f0f921"
            ]
           ]
          },
          "colorway": [
           "#636efa",
           "#EF553B",
           "#00cc96",
           "#ab63fa",
           "#FFA15A",
           "#19d3f3",
           "#FF6692",
           "#B6E880",
           "#FF97FF",
           "#FECB52"
          ],
          "font": {
           "color": "#2a3f5f"
          },
          "geo": {
           "bgcolor": "white",
           "lakecolor": "white",
           "landcolor": "#E5ECF6",
           "showlakes": true,
           "showland": true,
           "subunitcolor": "white"
          },
          "hoverlabel": {
           "align": "left"
          },
          "hovermode": "closest",
          "mapbox": {
           "style": "light"
          },
          "paper_bgcolor": "white",
          "plot_bgcolor": "#E5ECF6",
          "polar": {
           "angularaxis": {
            "gridcolor": "white",
            "linecolor": "white",
            "ticks": ""
           },
           "bgcolor": "#E5ECF6",
           "radialaxis": {
            "gridcolor": "white",
            "linecolor": "white",
            "ticks": ""
           }
          },
          "scene": {
           "xaxis": {
            "backgroundcolor": "#E5ECF6",
            "gridcolor": "white",
            "gridwidth": 2,
            "linecolor": "white",
            "showbackground": true,
            "ticks": "",
            "zerolinecolor": "white"
           },
           "yaxis": {
            "backgroundcolor": "#E5ECF6",
            "gridcolor": "white",
            "gridwidth": 2,
            "linecolor": "white",
            "showbackground": true,
            "ticks": "",
            "zerolinecolor": "white"
           },
           "zaxis": {
            "backgroundcolor": "#E5ECF6",
            "gridcolor": "white",
            "gridwidth": 2,
            "linecolor": "white",
            "showbackground": true,
            "ticks": "",
            "zerolinecolor": "white"
           }
          },
          "shapedefaults": {
           "line": {
            "color": "#2a3f5f"
           }
          },
          "ternary": {
           "aaxis": {
            "gridcolor": "white",
            "linecolor": "white",
            "ticks": ""
           },
           "baxis": {
            "gridcolor": "white",
            "linecolor": "white",
            "ticks": ""
           },
           "bgcolor": "#E5ECF6",
           "caxis": {
            "gridcolor": "white",
            "linecolor": "white",
            "ticks": ""
           }
          },
          "title": {
           "x": 0.05
          },
          "xaxis": {
           "automargin": true,
           "gridcolor": "white",
           "linecolor": "white",
           "ticks": "",
           "title": {
            "standoff": 15
           },
           "zerolinecolor": "white",
           "zerolinewidth": 2
          },
          "yaxis": {
           "automargin": true,
           "gridcolor": "white",
           "linecolor": "white",
           "ticks": "",
           "title": {
            "standoff": 15
           },
           "zerolinecolor": "white",
           "zerolinewidth": 2
          }
         }
        }
       }
      }
     },
     "metadata": {},
     "output_type": "display_data"
    }
   ],
   "source": [
    "import plotly.express as px\n",
    "\n",
    "X = corr_dists\n",
    "point_size = 1\n",
    "n_cells = X.shape[0]\n",
    "\n",
    "\n",
    "\n",
    "\n",
    "plot_names = True\n",
    "names = np.arange(1,n_cells+1)\n",
    "\n",
    "\n",
    "embedding = MDS(n_components=2,dissimilarity='precomputed',random_state=1)\n",
    "X_mds = embedding.fit_transform(X)\n",
    "\n",
    "df = cell_properties\n",
    "df['MDS1'] = X_mds[:,0]\n",
    "df['MDS2'] = X_mds[:,1]\n",
    "df['size'] = [point_size for i in range(len(df))]\n",
    "\n",
    "fig = px.scatter_3d(df, x='MDS1', y='MDS2', z=f'spatial_info_{session}')\n",
    "\n",
    "fig.show()"
   ]
  },
  {
   "cell_type": "code",
   "execution_count": 28,
   "metadata": {},
   "outputs": [
    {
     "data": {
      "application/vnd.plotly.v1+json": {
       "config": {
        "plotlyServerURL": "https://plot.ly"
       },
       "data": [
        {
         "hovertemplate": "MDS1=%{x}<br>MDS2=%{y}<br>spatial_info_1Square=%{z}<extra></extra>",
         "legendgroup": "",
         "marker": {
          "color": "#636efa",
          "symbol": "circle"
         },
         "mode": "markers",
         "name": "",
         "scene": "scene",
         "showlegend": false,
         "type": "scatter3d",
         "x": [
          -0.0029533736473599326,
          -0.04757263195038601,
          0.0003051269251887807,
          -0.17737406770186281,
          -0.17737405954029317,
          0.37942591709319906,
          -0.4744154552236181,
          -0.3772797170813444,
          0.06069019655230849,
          0.36290143253293394,
          -0.2797245268218346,
          -0.17731715119072977,
          -0.56676072217203,
          0.5788670594518769,
          0.1419285746325428,
          -0.3772798619432791,
          0.41847020648179395,
          0.1798625226622029,
          -0.3175757977608827,
          -0.1773740599620409,
          -0.24737401375551638,
          -0.09055650907513542,
          0.5321577541002821,
          0.12006374150299431,
          0.6774587069446559,
          0.08222833375826465,
          0.29357693072449653,
          -0.01570038293862939,
          -0.17737405826707942,
          -0.05824076979097294,
          0.00027187661738576485,
          -0.0471864960189356,
          -0.4094441121520964,
          0.5570902668501141,
          0.13649761704660746,
          -0.00387783275044669,
          -0.27444496096812127,
          -0.19898965000553437,
          0.6867599780879152,
          0.4010533583873902,
          0.5413608237114949,
          -0.0029473027056330565,
          -0.5884069848654376,
          0.3261481369216199,
          0.01781543122908355,
          -0.19898794120777571,
          -0.40944411117385093,
          -0.18274200118544914,
          -0.3013657490682159,
          0.00026936963900814375,
          0.1309976065346333,
          0.3315560493316912,
          -0.5883990302118601,
          0.11527828063702499,
          -0.27980369749535233,
          -0.32889220326614155,
          -0.5882538039684114,
          -0.02619936251415997,
          0.578848527664029,
          -0.002931507913321022,
          0.6872972556475048,
          0.6866682946774514,
          -0.27972452364825184,
          0.5846180066935022,
          -0.2797245214892678,
          0.4129626495783869,
          -0.3288883519788454,
          -0.28516715218209754,
          -0.17737404558997813,
          0.5366633376529625,
          0.22863264039543496,
          0.050264339637252096,
          -0.09626911356310769,
          0.00004082833947333495,
          -0.42030900606758165,
          -0.263546395459578,
          -0.2744449604424913,
          -0.3229354710874808,
          -0.27972452123027974,
          -0.5668197679766702,
          -0.32889646311643084,
          -0.39320946561906595,
          0.0002566639371121673,
          0.1037407680208332,
          -0.17737405669400186,
          -0.17737404837335904,
          -0.0029528501650889502,
          0.08234589657785144,
          0.4283533774716359,
          0.1852618994840008,
          -0.13398729640822554,
          -0.10156887866903717,
          -0.11777397131602511,
          0.6296015386274068,
          0.44442810297048685,
          0.5138224906274872,
          -0.002949583164320297,
          -0.00293988834488744,
          -0.2797245270193258,
          0.08138369329785809,
          0.07537942123413766,
          0.33155974555056245,
          0.5571513997425399,
          0.1693438241416859,
          -0.2797245224578147,
          -0.09626911114156615,
          -0.30136574713014375,
          0.00015617614459935148,
          -0.32293546982121535,
          0.6217509655248995,
          -0.5668184811651595,
          0.6222049049987594,
          0.11517918718417486,
          -0.5882210742680329,
          -0.17737406229566832
         ],
         "y": [
          -0.5993694062383416,
          0.044517692883481376,
          -0.5991943614496841,
          0.21696877509082443,
          0.21696877734999342,
          -0.20828467405572607,
          0.02667974199927995,
          0.1677823690289569,
          -0.008830086997703691,
          -0.3230257636785442,
          -0.23218715591255254,
          0.4869462056529673,
          0.1935179819471548,
          -0.16339122285028573,
          0.018621832893836537,
          0.16778209189156842,
          0.4593044095127467,
          0.14785778226572313,
          -0.09162620661224635,
          0.21696877723325156,
          -0.27540229732842586,
          0.5518264303537768,
          0.30721706578172997,
          -0.13279058530827462,
          0.11216297524137799,
          -0.5340668905927871,
          0.13179783984305937,
          -0.26924043888687144,
          0.21696877770241757,
          0.3737340560008845,
          -0.5991962009384609,
          0.5842366327636493,
          -0.05953713925264109,
          -0.1797834291249078,
          -0.019120945940339407,
          0.4816788921037732,
          -0.05901698105361806,
          0.4707092988390238,
          -0.09658990102635946,
          -0.19215846571892245,
          -0.15647530177499053,
          -0.5993690899159774,
          0.17702473393101445,
          -0.04500276677450077,
          0.49786626739364626,
          0.47070967644463313,
          -0.0595371354822689,
          -0.36186901802079585,
          -0.11321550018212961,
          -0.5991963395827283,
          0.6167658848064794,
          -0.007506353829240807,
          0.17705071265483197,
          0.5032694610297663,
          -0.09690720107423924,
          0.3731560187826452,
          0.17752523625950725,
          -0.20958943995336024,
          -0.16349294849835522,
          -0.5993682667674387,
          -0.08855874882768813,
          -0.09782207208711334,
          -0.2321871558081173,
          -0.1253520255517681,
          -0.2321871557199462,
          0.28675628259392033,
          0.37315890238466265,
          -0.13481091340284493,
          0.21696878121128188,
          -0.05923191139976537,
          0.2177963328002035,
          0.5896400605005969,
          -0.02588589040548756,
          -0.599208951332443,
          -0.00004393949719260288,
          -0.25379287351314256,
          -0.059016980662947374,
          -0.12952400422970936,
          -0.23218715571794263,
          0.19334242308207528,
          0.37315282892181817,
          -0.08111350049697985,
          -0.5991970421479486,
          -0.5178193078473671,
          0.216968778137839,
          0.21696878044090157,
          -0.5993693789640887,
          -0.5340568897466791,
          -0.1378695523859473,
          0.05108801230731429,
          0.5193975444811018,
          0.34129401539467824,
          0.36286652443386347,
          0.17529159136035996,
          -0.15971339480105765,
          -0.2113840697144758,
          -0.5993692087420452,
          -0.59936870354603,
          -0.2321871559201542,
          0.6817134041133384,
          0.6440607062812942,
          -0.007492189377481323,
          -0.17950371845378468,
          0.47628937428896206,
          -0.23218715576494023,
          -0.025885886370303507,
          -0.11321549820681062,
          -0.5992025926685991,
          -0.1295240016008775,
          -0.13577341634863097,
          0.1933462542681999,
          -0.13218164135134183,
          0.6382475827251399,
          0.1776322434375202,
          0.21696877658729719
         ],
         "z": [
          0.5966049455336526,
          0.4517154940949851,
          0.6771680028795208,
          0.1509747481448958,
          0.3105891192250317,
          0.3736453883322552,
          0.3495922391261227,
          1.088325794168158,
          0.2294866386328664,
          0.7535043146978746,
          1.0361821668187952,
          1.7142052535156205,
          0.1179014410005681,
          0.0953846743344701,
          0.3364891796506383,
          0.4065033942948635,
          0.4571419836910914,
          1.071313197623826,
          0.4197479193324059,
          0.7865659474126315,
          0.3941274224788177,
          0.9023796991203732,
          1.7132007943385492,
          0.1579701345023653,
          1.4598177875439535,
          0.8380652573249759,
          0.6674421667284598,
          0.6192261159249238,
          0.0405939619620648,
          0.1907226620384659,
          0.0919895466143602,
          0.1724432311808824,
          0.7162447370328425,
          0.6673213824696548,
          0.9857406139257192,
          2.0638998641752857,
          0.3120697964044081,
          0.7210025146225685,
          0.0493580359221125,
          0.0588816236521083,
          0.449457457441206,
          0.5190050351787423,
          0.2320735155975955,
          0.4072832426787299,
          0.3039217425310934,
          1.3378135776139946,
          1.7195407958476592,
          -0.0071824391280116,
          0.215898174588443,
          0.2150855275843739,
          0.278781217461838,
          0.1554837900833449,
          0.8523065851182713,
          0.721393277749095,
          0.6873966052662479,
          1.2206464888683306,
          0.4039802772399533,
          -0.0237069552138712,
          0.2557102252339459,
          0.0843561085084117,
          0.009860830606492,
          0.0125897160843803,
          0.0738620594968247,
          0.2553219697628318,
          0.1772271281663817,
          0.8259821562084032,
          0.4868157513290825,
          1.0573034178498226,
          -0.0206991153759639,
          1.2440449615141558,
          0.938054216608697,
          0.1502393898069384,
          0.0628710135603287,
          0.012873183303682,
          0.0051818253897979,
          0.0165960357847536,
          0.0265485910357824,
          0.0259038170585031,
          0.0219187770146155,
          0.1610432137716121,
          0.3588836882590265,
          0.4814138824363589,
          0.7009640156685106,
          0.7372540385049374,
          0.6549092246149463,
          -0.0090372079443787,
          -0.0248079018262768,
          0.1393101041014936,
          0.9640226231647748,
          0.8160337897128234,
          0.0062169317693298,
          2.3339156705451853,
          0.7415464676284024,
          0.0516580478257942,
          0.1669405820835676,
          0.154513707057103,
          0.0641690600384639,
          0.0928300541546218,
          0.1348023914559597,
          0.940544145857894,
          1.8111946152270268,
          0.3569081372614778,
          0.7612266365955653,
          0.025698268228277,
          0.4537959117563493,
          0.1159720529461902,
          0.304084964984406,
          0.605475579684396,
          0.6314010286566873,
          0.8170862622458165,
          0.3925785640544146,
          1.6037408889883409,
          1.291605818968728,
          -0.0282591204517155,
          0.1733835659476403
         ]
        }
       ],
       "layout": {
        "legend": {
         "tracegroupgap": 0
        },
        "margin": {
         "t": 60
        },
        "scene": {
         "domain": {
          "x": [
           0,
           1
          ],
          "y": [
           0,
           1
          ]
         },
         "xaxis": {
          "title": {
           "text": "MDS1"
          }
         },
         "yaxis": {
          "title": {
           "text": "MDS2"
          }
         },
         "zaxis": {
          "title": {
           "text": "spatial_info_1Square"
          }
         }
        },
        "template": {
         "data": {
          "bar": [
           {
            "error_x": {
             "color": "#2a3f5f"
            },
            "error_y": {
             "color": "#2a3f5f"
            },
            "marker": {
             "line": {
              "color": "#E5ECF6",
              "width": 0.5
             },
             "pattern": {
              "fillmode": "overlay",
              "size": 10,
              "solidity": 0.2
             }
            },
            "type": "bar"
           }
          ],
          "barpolar": [
           {
            "marker": {
             "line": {
              "color": "#E5ECF6",
              "width": 0.5
             },
             "pattern": {
              "fillmode": "overlay",
              "size": 10,
              "solidity": 0.2
             }
            },
            "type": "barpolar"
           }
          ],
          "carpet": [
           {
            "aaxis": {
             "endlinecolor": "#2a3f5f",
             "gridcolor": "white",
             "linecolor": "white",
             "minorgridcolor": "white",
             "startlinecolor": "#2a3f5f"
            },
            "baxis": {
             "endlinecolor": "#2a3f5f",
             "gridcolor": "white",
             "linecolor": "white",
             "minorgridcolor": "white",
             "startlinecolor": "#2a3f5f"
            },
            "type": "carpet"
           }
          ],
          "choropleth": [
           {
            "colorbar": {
             "outlinewidth": 0,
             "ticks": ""
            },
            "type": "choropleth"
           }
          ],
          "contour": [
           {
            "colorbar": {
             "outlinewidth": 0,
             "ticks": ""
            },
            "colorscale": [
             [
              0,
              "#0d0887"
             ],
             [
              0.1111111111111111,
              "#46039f"
             ],
             [
              0.2222222222222222,
              "#7201a8"
             ],
             [
              0.3333333333333333,
              "#9c179e"
             ],
             [
              0.4444444444444444,
              "#bd3786"
             ],
             [
              0.5555555555555556,
              "#d8576b"
             ],
             [
              0.6666666666666666,
              "#ed7953"
             ],
             [
              0.7777777777777778,
              "#fb9f3a"
             ],
             [
              0.8888888888888888,
              "#fdca26"
             ],
             [
              1,
              "#f0f921"
             ]
            ],
            "type": "contour"
           }
          ],
          "contourcarpet": [
           {
            "colorbar": {
             "outlinewidth": 0,
             "ticks": ""
            },
            "type": "contourcarpet"
           }
          ],
          "heatmap": [
           {
            "colorbar": {
             "outlinewidth": 0,
             "ticks": ""
            },
            "colorscale": [
             [
              0,
              "#0d0887"
             ],
             [
              0.1111111111111111,
              "#46039f"
             ],
             [
              0.2222222222222222,
              "#7201a8"
             ],
             [
              0.3333333333333333,
              "#9c179e"
             ],
             [
              0.4444444444444444,
              "#bd3786"
             ],
             [
              0.5555555555555556,
              "#d8576b"
             ],
             [
              0.6666666666666666,
              "#ed7953"
             ],
             [
              0.7777777777777778,
              "#fb9f3a"
             ],
             [
              0.8888888888888888,
              "#fdca26"
             ],
             [
              1,
              "#f0f921"
             ]
            ],
            "type": "heatmap"
           }
          ],
          "heatmapgl": [
           {
            "colorbar": {
             "outlinewidth": 0,
             "ticks": ""
            },
            "colorscale": [
             [
              0,
              "#0d0887"
             ],
             [
              0.1111111111111111,
              "#46039f"
             ],
             [
              0.2222222222222222,
              "#7201a8"
             ],
             [
              0.3333333333333333,
              "#9c179e"
             ],
             [
              0.4444444444444444,
              "#bd3786"
             ],
             [
              0.5555555555555556,
              "#d8576b"
             ],
             [
              0.6666666666666666,
              "#ed7953"
             ],
             [
              0.7777777777777778,
              "#fb9f3a"
             ],
             [
              0.8888888888888888,
              "#fdca26"
             ],
             [
              1,
              "#f0f921"
             ]
            ],
            "type": "heatmapgl"
           }
          ],
          "histogram": [
           {
            "marker": {
             "pattern": {
              "fillmode": "overlay",
              "size": 10,
              "solidity": 0.2
             }
            },
            "type": "histogram"
           }
          ],
          "histogram2d": [
           {
            "colorbar": {
             "outlinewidth": 0,
             "ticks": ""
            },
            "colorscale": [
             [
              0,
              "#0d0887"
             ],
             [
              0.1111111111111111,
              "#46039f"
             ],
             [
              0.2222222222222222,
              "#7201a8"
             ],
             [
              0.3333333333333333,
              "#9c179e"
             ],
             [
              0.4444444444444444,
              "#bd3786"
             ],
             [
              0.5555555555555556,
              "#d8576b"
             ],
             [
              0.6666666666666666,
              "#ed7953"
             ],
             [
              0.7777777777777778,
              "#fb9f3a"
             ],
             [
              0.8888888888888888,
              "#fdca26"
             ],
             [
              1,
              "#f0f921"
             ]
            ],
            "type": "histogram2d"
           }
          ],
          "histogram2dcontour": [
           {
            "colorbar": {
             "outlinewidth": 0,
             "ticks": ""
            },
            "colorscale": [
             [
              0,
              "#0d0887"
             ],
             [
              0.1111111111111111,
              "#46039f"
             ],
             [
              0.2222222222222222,
              "#7201a8"
             ],
             [
              0.3333333333333333,
              "#9c179e"
             ],
             [
              0.4444444444444444,
              "#bd3786"
             ],
             [
              0.5555555555555556,
              "#d8576b"
             ],
             [
              0.6666666666666666,
              "#ed7953"
             ],
             [
              0.7777777777777778,
              "#fb9f3a"
             ],
             [
              0.8888888888888888,
              "#fdca26"
             ],
             [
              1,
              "#f0f921"
             ]
            ],
            "type": "histogram2dcontour"
           }
          ],
          "mesh3d": [
           {
            "colorbar": {
             "outlinewidth": 0,
             "ticks": ""
            },
            "type": "mesh3d"
           }
          ],
          "parcoords": [
           {
            "line": {
             "colorbar": {
              "outlinewidth": 0,
              "ticks": ""
             }
            },
            "type": "parcoords"
           }
          ],
          "pie": [
           {
            "automargin": true,
            "type": "pie"
           }
          ],
          "scatter": [
           {
            "marker": {
             "colorbar": {
              "outlinewidth": 0,
              "ticks": ""
             }
            },
            "type": "scatter"
           }
          ],
          "scatter3d": [
           {
            "line": {
             "colorbar": {
              "outlinewidth": 0,
              "ticks": ""
             }
            },
            "marker": {
             "colorbar": {
              "outlinewidth": 0,
              "ticks": ""
             }
            },
            "type": "scatter3d"
           }
          ],
          "scattercarpet": [
           {
            "marker": {
             "colorbar": {
              "outlinewidth": 0,
              "ticks": ""
             }
            },
            "type": "scattercarpet"
           }
          ],
          "scattergeo": [
           {
            "marker": {
             "colorbar": {
              "outlinewidth": 0,
              "ticks": ""
             }
            },
            "type": "scattergeo"
           }
          ],
          "scattergl": [
           {
            "marker": {
             "colorbar": {
              "outlinewidth": 0,
              "ticks": ""
             }
            },
            "type": "scattergl"
           }
          ],
          "scattermapbox": [
           {
            "marker": {
             "colorbar": {
              "outlinewidth": 0,
              "ticks": ""
             }
            },
            "type": "scattermapbox"
           }
          ],
          "scatterpolar": [
           {
            "marker": {
             "colorbar": {
              "outlinewidth": 0,
              "ticks": ""
             }
            },
            "type": "scatterpolar"
           }
          ],
          "scatterpolargl": [
           {
            "marker": {
             "colorbar": {
              "outlinewidth": 0,
              "ticks": ""
             }
            },
            "type": "scatterpolargl"
           }
          ],
          "scatterternary": [
           {
            "marker": {
             "colorbar": {
              "outlinewidth": 0,
              "ticks": ""
             }
            },
            "type": "scatterternary"
           }
          ],
          "surface": [
           {
            "colorbar": {
             "outlinewidth": 0,
             "ticks": ""
            },
            "colorscale": [
             [
              0,
              "#0d0887"
             ],
             [
              0.1111111111111111,
              "#46039f"
             ],
             [
              0.2222222222222222,
              "#7201a8"
             ],
             [
              0.3333333333333333,
              "#9c179e"
             ],
             [
              0.4444444444444444,
              "#bd3786"
             ],
             [
              0.5555555555555556,
              "#d8576b"
             ],
             [
              0.6666666666666666,
              "#ed7953"
             ],
             [
              0.7777777777777778,
              "#fb9f3a"
             ],
             [
              0.8888888888888888,
              "#fdca26"
             ],
             [
              1,
              "#f0f921"
             ]
            ],
            "type": "surface"
           }
          ],
          "table": [
           {
            "cells": {
             "fill": {
              "color": "#EBF0F8"
             },
             "line": {
              "color": "white"
             }
            },
            "header": {
             "fill": {
              "color": "#C8D4E3"
             },
             "line": {
              "color": "white"
             }
            },
            "type": "table"
           }
          ]
         },
         "layout": {
          "annotationdefaults": {
           "arrowcolor": "#2a3f5f",
           "arrowhead": 0,
           "arrowwidth": 1
          },
          "autotypenumbers": "strict",
          "coloraxis": {
           "colorbar": {
            "outlinewidth": 0,
            "ticks": ""
           }
          },
          "colorscale": {
           "diverging": [
            [
             0,
             "#8e0152"
            ],
            [
             0.1,
             "#c51b7d"
            ],
            [
             0.2,
             "#de77ae"
            ],
            [
             0.3,
             "#f1b6da"
            ],
            [
             0.4,
             "#fde0ef"
            ],
            [
             0.5,
             "#f7f7f7"
            ],
            [
             0.6,
             "#e6f5d0"
            ],
            [
             0.7,
             "#b8e186"
            ],
            [
             0.8,
             "#7fbc41"
            ],
            [
             0.9,
             "#4d9221"
            ],
            [
             1,
             "#276419"
            ]
           ],
           "sequential": [
            [
             0,
             "#0d0887"
            ],
            [
             0.1111111111111111,
             "#46039f"
            ],
            [
             0.2222222222222222,
             "#7201a8"
            ],
            [
             0.3333333333333333,
             "#9c179e"
            ],
            [
             0.4444444444444444,
             "#bd3786"
            ],
            [
             0.5555555555555556,
             "#d8576b"
            ],
            [
             0.6666666666666666,
             "#ed7953"
            ],
            [
             0.7777777777777778,
             "#fb9f3a"
            ],
            [
             0.8888888888888888,
             "#fdca26"
            ],
            [
             1,
             "#f0f921"
            ]
           ],
           "sequentialminus": [
            [
             0,
             "#0d0887"
            ],
            [
             0.1111111111111111,
             "#46039f"
            ],
            [
             0.2222222222222222,
             "#7201a8"
            ],
            [
             0.3333333333333333,
             "#9c179e"
            ],
            [
             0.4444444444444444,
             "#bd3786"
            ],
            [
             0.5555555555555556,
             "#d8576b"
            ],
            [
             0.6666666666666666,
             "#ed7953"
            ],
            [
             0.7777777777777778,
             "#fb9f3a"
            ],
            [
             0.8888888888888888,
             "#fdca26"
            ],
            [
             1,
             "#f0f921"
            ]
           ]
          },
          "colorway": [
           "#636efa",
           "#EF553B",
           "#00cc96",
           "#ab63fa",
           "#FFA15A",
           "#19d3f3",
           "#FF6692",
           "#B6E880",
           "#FF97FF",
           "#FECB52"
          ],
          "font": {
           "color": "#2a3f5f"
          },
          "geo": {
           "bgcolor": "white",
           "lakecolor": "white",
           "landcolor": "#E5ECF6",
           "showlakes": true,
           "showland": true,
           "subunitcolor": "white"
          },
          "hoverlabel": {
           "align": "left"
          },
          "hovermode": "closest",
          "mapbox": {
           "style": "light"
          },
          "paper_bgcolor": "white",
          "plot_bgcolor": "#E5ECF6",
          "polar": {
           "angularaxis": {
            "gridcolor": "white",
            "linecolor": "white",
            "ticks": ""
           },
           "bgcolor": "#E5ECF6",
           "radialaxis": {
            "gridcolor": "white",
            "linecolor": "white",
            "ticks": ""
           }
          },
          "scene": {
           "xaxis": {
            "backgroundcolor": "#E5ECF6",
            "gridcolor": "white",
            "gridwidth": 2,
            "linecolor": "white",
            "showbackground": true,
            "ticks": "",
            "zerolinecolor": "white"
           },
           "yaxis": {
            "backgroundcolor": "#E5ECF6",
            "gridcolor": "white",
            "gridwidth": 2,
            "linecolor": "white",
            "showbackground": true,
            "ticks": "",
            "zerolinecolor": "white"
           },
           "zaxis": {
            "backgroundcolor": "#E5ECF6",
            "gridcolor": "white",
            "gridwidth": 2,
            "linecolor": "white",
            "showbackground": true,
            "ticks": "",
            "zerolinecolor": "white"
           }
          },
          "shapedefaults": {
           "line": {
            "color": "#2a3f5f"
           }
          },
          "ternary": {
           "aaxis": {
            "gridcolor": "white",
            "linecolor": "white",
            "ticks": ""
           },
           "baxis": {
            "gridcolor": "white",
            "linecolor": "white",
            "ticks": ""
           },
           "bgcolor": "#E5ECF6",
           "caxis": {
            "gridcolor": "white",
            "linecolor": "white",
            "ticks": ""
           }
          },
          "title": {
           "x": 0.05
          },
          "xaxis": {
           "automargin": true,
           "gridcolor": "white",
           "linecolor": "white",
           "ticks": "",
           "title": {
            "standoff": 15
           },
           "zerolinecolor": "white",
           "zerolinewidth": 2
          },
          "yaxis": {
           "automargin": true,
           "gridcolor": "white",
           "linecolor": "white",
           "ticks": "",
           "title": {
            "standoff": 15
           },
           "zerolinecolor": "white",
           "zerolinewidth": 2
          }
         }
        }
       }
      }
     },
     "metadata": {},
     "output_type": "display_data"
    }
   ],
   "source": [
    "import plotly.express as px\n",
    "\n",
    "X = peak_dists\n",
    "point_size = 1\n",
    "n_cells = X.shape[0]\n",
    "\n",
    "\n",
    "\n",
    "\n",
    "plot_names = True\n",
    "names = np.arange(1,n_cells+1)\n",
    "\n",
    "\n",
    "embedding = MDS(n_components=2,dissimilarity='precomputed',random_state=1)\n",
    "X_mds = embedding.fit_transform(X)\n",
    "\n",
    "df = cell_properties\n",
    "df['MDS1'] = X_mds[:,0]\n",
    "df['MDS2'] = X_mds[:,1]\n",
    "df['size'] = [point_size for i in range(len(df))]\n",
    "\n",
    "fig = px.scatter_3d(df, x='MDS1', y='MDS2', z=f'spatial_info_{session}')\n",
    "\n",
    "fig.show()"
   ]
  },
  {
   "cell_type": "code",
   "execution_count": null,
   "metadata": {},
   "outputs": [],
   "source": []
  }
 ],
 "metadata": {
  "interpreter": {
   "hash": "ec757111aa82fc412dab5a41ba1a33fdb6db5c8112df3ff06fec0dbff050b412"
  },
  "kernelspec": {
   "display_name": "Python 3.8.8 ('base')",
   "language": "python",
   "name": "python3"
  },
  "language_info": {
   "codemirror_mode": {
    "name": "ipython",
    "version": 3
   },
   "file_extension": ".py",
   "mimetype": "text/x-python",
   "name": "python",
   "nbconvert_exporter": "python",
   "pygments_lexer": "ipython3",
   "version": "3.8.8"
  }
 },
 "nbformat": 4,
 "nbformat_minor": 4
}
